{
 "cells": [
  {
   "cell_type": "markdown",
   "id": "9adb82f3-384e-4e09-9450-4ff2e246d50b",
   "metadata": {},
   "source": [
    "Assignmen of Python"
   ]
  },
  {
   "cell_type": "markdown",
   "id": "ce724451-2009-495a-9b6a-2cf5a5829848",
   "metadata": {},
   "source": [
    "Q1: what are the different applications?\n",
    "- Nowadays Python is mostly used in:\n",
    "- Web Development, Software Development, Machine Learning, Data Science, Human-machine interaction, Education, Task Automation,and many more."
   ]
  },
  {
   "cell_type": "markdown",
   "id": "546d42d1-05a6-4be7-8203-2ee4f1774ad2",
   "metadata": {},
   "source": [
    "Q2: What is programing? \n",
    "- Programming is the process of writing instructions, or code, for a computer to follow in order to perform a task to acquire desire result."
   ]
  },
  {
   "cell_type": "markdown",
   "id": "84a37e3a-e0c1-4349-8c96-7d4a0a9516c2",
   "metadata": {},
   "source": [
    "Q3: What is Python?\n",
    "- Python is a general-purpose language, meaning it can be used to create a variety of different programs which was invented by Guido Van Rossum in 1991. It is known for being easy to learn and efficient, and it can run on many different platforms. Python is also open-source, so many independent programmers are continually building libraries and functionality for it."
   ]
  },
  {
   "cell_type": "code",
   "execution_count": 3,
   "id": "b3e5909d-7bac-4dab-a215-da1640be98d3",
   "metadata": {},
   "outputs": [
    {
     "name": "stdout",
     "output_type": "stream",
     "text": [
      "Number is positive\n",
      "\n",
      "Number is Zero\n",
      "\n",
      "Number is negative\n"
     ]
    }
   ],
   "source": [
    "#Q4\n",
    "r = 5\n",
    "if r<0:\n",
    "    print(\"Number is negative\")\n",
    "elif r>0:\n",
    "    print(\"Number is positive\")\n",
    "else:\n",
    "    print(\"Number is Zero\")\n",
    "\n",
    "print ()\n",
    "\n",
    "r = 0\n",
    "if r<0:\n",
    "    print(\"Number is negative\")\n",
    "elif r>0:\n",
    "    print(\"Number is positive\")\n",
    "else:\n",
    "    print(\"Number is Zero\")\n",
    "\n",
    "print ()\n",
    "\n",
    "r = -1\n",
    "if r<0:\n",
    "    print(\"Number is negative\")\n",
    "elif r>0:\n",
    "    print(\"Number is positive\")\n",
    "else:\n",
    "    print(\"Number is Zero\")"
   ]
  },
  {
   "cell_type": "code",
   "execution_count": 7,
   "id": "1a8d3687-8a2a-42fb-8773-ff76a809af2e",
   "metadata": {},
   "outputs": [
    {
     "name": "stdin",
     "output_type": "stream",
     "text": [
      "enter no 6\n"
     ]
    },
    {
     "name": "stdout",
     "output_type": "stream",
     "text": [
      "720\n"
     ]
    }
   ],
   "source": [
    "#Q5\n",
    "x = int(input(\"enter no\"))\n",
    "factorial = 1\n",
    "for i in range(1,x+1):\n",
    "    factorial *=i\n",
    "print(factorial)"
   ]
  },
  {
   "cell_type": "code",
   "execution_count": 9,
   "id": "300cf16e-9be2-4c3c-854e-776f0de2c553",
   "metadata": {},
   "outputs": [
    {
     "name": "stdout",
     "output_type": "stream",
     "text": [
      "1 2 3 5 8 13 \n"
     ]
    }
   ],
   "source": [
    "#Q6\n",
    "p = 7\n",
    "q1 = 0\n",
    "q2 = 1\n",
    "next_number = q2\n",
    "count = 1\n",
    "for i in range(6):\n",
    "    print(next_number, end =\" \")\n",
    "    count += 1\n",
    "    q1, q2 = q2, next_number\n",
    "    next_number = q1 +q2\n",
    "print()"
   ]
  },
  {
   "cell_type": "markdown",
   "id": "9b15aab0-60b3-46ab-a31a-224e0adca4c1",
   "metadata": {},
   "source": [
    "Q7: How memory is managed in Python?\n",
    "- Python uses variety of methods to manage memory, some of them are: Garbage Collection, Reference Counting, Raw Memory allocators, Generators and Iterators."
   ]
  },
  {
   "cell_type": "markdown",
   "id": "9309253b-a330-442c-b49f-b161053c6d50",
   "metadata": {},
   "source": [
    "Q8: What is the purpose continue statement in python?\n",
    "- The purpose of the continue statement is to modify the control flow inside loops, namely in the for, while, and do-while loops. Its main purpose is to skip the execution of the statements following it for that iteration and move to the next iteration when a certain condition is satisfied.\n"
   ]
  },
  {
   "cell_type": "code",
   "execution_count": 15,
   "id": "d84e709a-a55d-4d7c-af6a-81df45074869",
   "metadata": {},
   "outputs": [
    {
     "name": "stdout",
     "output_type": "stream",
     "text": [
      "swapped value of w 10\n",
      "\n",
      "swapped value of t 20\n",
      "\n",
      "swapped value of w 20\n",
      "\n",
      "swapped value of t 10\n",
      "\n",
      "w: 10\n",
      "\n",
      "t: 20\n",
      "\n",
      "10\n",
      "\n",
      "5\n",
      "\n",
      "Swapped: e = 5  r = 10\n"
     ]
    }
   ],
   "source": [
    "#Q9\n",
    "w = 10\n",
    "t = 20\n",
    "#with temp variable\n",
    "print(\"swapped value of w\",w)\n",
    "print ()\n",
    "print(\"swapped value of t\",t)\n",
    "print ()\n",
    "temp = w\n",
    "w = t \n",
    "t = temp\n",
    "print(\"swapped value of w\",w)\n",
    "print ()\n",
    "print(\"swapped value of t\",t)\n",
    "print ()\n",
    "\n",
    "#without temp variable using addition and subtraction\n",
    "w = w+t\n",
    "t = w-t\n",
    "w = w-t\n",
    "print(\"w:\",w)\n",
    "print ()\n",
    "print(\"t:\",t)\n",
    "print ()\n",
    "\n",
    "e = 10\n",
    "r = 5\n",
    "print(e)\n",
    "print ()\n",
    "print(r)\n",
    "print ()\n",
    "e = e + r \n",
    "r = e - r  \n",
    "e = e - r\n",
    "print(\"Swapped: e =\", e,  \" r =\", r) "
   ]
  },
  {
   "cell_type": "code",
   "execution_count": 39,
   "id": "76f4089e-5803-4a85-90f7-32f1ea101794",
   "metadata": {},
   "outputs": [
    {
     "name": "stdout",
     "output_type": "stream",
     "text": [
      "Number is odd\n"
     ]
    }
   ],
   "source": [
    "#Q10\n",
    "s = 25\n",
    "if s/2==0:\n",
    "    print(\"Number is even\")\n",
    "else:\n",
    "    print(\"Number is odd\")"
   ]
  },
  {
   "cell_type": "code",
   "execution_count": 45,
   "id": "9ed64f0d-5429-4275-90d4-9f52da6798da",
   "metadata": {},
   "outputs": [
    {
     "name": "stdin",
     "output_type": "stream",
     "text": [
      "enter letter g\n"
     ]
    },
    {
     "name": "stdout",
     "output_type": "stream",
     "text": [
      "g is consonent\n"
     ]
    }
   ],
   "source": [
    "#Q11\n",
    "y = str(input(\"enter letter\"))\n",
    "if y == \"a\":\n",
    "    print(y,\"is vowel\")\n",
    "elif y == \"e\":\n",
    "    print(y,\"is vowel\")\n",
    "elif y == \"i\":\n",
    "    print(y,\"is vowel\")\n",
    "elif y == \"o\":\n",
    "    print(y,\"is vowel\")\n",
    "elif y == \"u\":\n",
    "    print(y,\"is vowel\")\n",
    "else:\n",
    "    print(y,\"is consonent\")"
   ]
  },
  {
   "cell_type": "code",
   "execution_count": 5,
   "id": "4a93b7ef-4d6c-4983-bab1-c1f3001b7d0d",
   "metadata": {},
   "outputs": [
    {
     "name": "stdin",
     "output_type": "stream",
     "text": [
      "enter a 5\n",
      "enter b 5\n",
      "enter c 7\n"
     ]
    },
    {
     "name": "stdout",
     "output_type": "stream",
     "text": [
      "sum is zero\n"
     ]
    }
   ],
   "source": [
    "#Q12 \n",
    "a = int(input(\"enter a\"))\n",
    "b = int(input(\"enter b\"))\n",
    "c = int(input(\"enter c\"))\n",
    "if a == b:\n",
    "    print(\"sum is zero\")\n",
    "elif a ==c:\n",
    "    print(\"sum is zero\")\n",
    "elif b == c:\n",
    "    print(\"sum is zero\")\n",
    "else :\n",
    "    print(\"sum is\",a+b+c)"
   ]
  },
  {
   "cell_type": "code",
   "execution_count": 7,
   "id": "8c7c6905-e2dd-43f9-8bf8-716111c5be32",
   "metadata": {},
   "outputs": [
    {
     "name": "stdout",
     "output_type": "stream",
     "text": [
      "false\n"
     ]
    }
   ],
   "source": [
    "#Q13\n",
    "x = 5\n",
    "y = 8\n",
    "if x ==y:\n",
    "    print(\"true\")\n",
    "elif x - y == 5:\n",
    "    print(\"true\")\n",
    "else:\n",
    "    print(\"false\")"
   ]
  },
  {
   "cell_type": "code",
   "execution_count": 13,
   "id": "5cdd4460-d480-4bb2-9be1-3f441f46dab5",
   "metadata": {},
   "outputs": [
    {
     "name": "stdin",
     "output_type": "stream",
     "text": [
      "enter number: 3\n"
     ]
    },
    {
     "name": "stdout",
     "output_type": "stream",
     "text": [
      "the sum is 6\n"
     ]
    }
   ],
   "source": [
    "#Q14\n",
    "w = int(input(\"enter number:\"))\n",
    "if w < 0:\n",
    "    print(\"enter a positive number\")\n",
    "elif w == 0:\n",
    "    print(\"enter number greater than zero\")\n",
    "else:\n",
    "    sum = 0\n",
    "    while(w>0):\n",
    "        sum +=w\n",
    "        w -= 1\n",
    "print(\"the sum is\",sum)"
   ]
  },
  {
   "cell_type": "code",
   "execution_count": 15,
   "id": "b8f19456-7ca2-4fc8-af45-7c7ad089abeb",
   "metadata": {},
   "outputs": [
    {
     "data": {
      "text/plain": [
       "19"
      ]
     },
     "execution_count": 15,
     "metadata": {},
     "output_type": "execute_result"
    }
   ],
   "source": [
    "#Q15\n",
    "a = \"Welcome to My World\"\n",
    "len(a)"
   ]
  },
  {
   "cell_type": "code",
   "execution_count": 27,
   "id": "02f065f8-33ff-4c3c-a589-6d8e4ff6e8ed",
   "metadata": {},
   "outputs": [
    {
     "name": "stdout",
     "output_type": "stream",
     "text": [
      "4\n"
     ]
    }
   ],
   "source": [
    "#Q16\n",
    "a = \"Shrutika Pritika Kritika Ritika Akriti\"\n",
    "print(a.count(\"a\"))"
   ]
  },
  {
   "cell_type": "markdown",
   "id": "3ed57236-4b92-4990-9326-3952a72102fe",
   "metadata": {},
   "source": [
    "Q17: What are negative indexes and why are they used?\n",
    "- Negative indexes in Python are a powerful feature that allows us to access elements in a list from the end instead of the beginning. This can be particularly useful when dealing with large lists or when we need to access the last few elements without knowing their exact position."
   ]
  },
  {
   "cell_type": "code",
   "execution_count": 29,
   "id": "d6726ba0-8dee-4210-987b-9c4004837591",
   "metadata": {},
   "outputs": [
    {
     "name": "stdout",
     "output_type": "stream",
     "text": [
      "2\n"
     ]
    }
   ],
   "source": [
    "#Q18\n",
    "a = \"I Like you and I want to meet you.\"\n",
    "b = a.count(\"you\")\n",
    "print(b)"
   ]
  },
  {
   "cell_type": "code",
   "execution_count": 31,
   "id": "852b84aa-03a5-496c-b935-d32314260632",
   "metadata": {},
   "outputs": [
    {
     "name": "stdout",
     "output_type": "stream",
     "text": [
      "2\n"
     ]
    }
   ],
   "source": [
    "#Q19\n",
    "a = \"chandu ki chachi ne chandu ke chacha ki chandi ki chamach mein chatni chatai\"\n",
    "print(a.count(\"chandu\"))"
   ]
  },
  {
   "cell_type": "code",
   "execution_count": 35,
   "id": "895351ba-b6a4-4ac2-b84d-c3f1e0ec65ef",
   "metadata": {},
   "outputs": [
    {
     "name": "stdout",
     "output_type": "stream",
     "text": [
      "Suvendar Lanflower\n"
     ]
    }
   ],
   "source": [
    "#Q20\n",
    "x = \"Lavendar\"\n",
    "y = \"Sunflower\"\n",
    "if len(x)>2 and len(y)>2:\n",
    "    c = y[:2]+ x[2:]\n",
    "    d = x[:2]+ y[2:]\n",
    "    e = c + \" \" + d\n",
    "    print(e)\n",
    "else:\n",
    "    print(\"Please enter a string consist of 2 characters\")"
   ]
  },
  {
   "cell_type": "code",
   "execution_count": 45,
   "id": "b2597d30-9986-4591-a640-b66494f82835",
   "metadata": {},
   "outputs": [
    {
     "name": "stdin",
     "output_type": "stream",
     "text": [
      "enter string: surprise\n"
     ]
    },
    {
     "name": "stdout",
     "output_type": "stream",
     "text": [
      "8\n",
      "surprisein\n"
     ]
    }
   ],
   "source": [
    "#Q21\n",
    "a = input(\"enter string:\")\n",
    "print(len(a))\n",
    "z = a.replace(\"ing\",\"ly\")\n",
    "if a[-3:] == 'ing':\n",
    "            print(z)\n",
    "elif len(a) >= 3:\n",
    "    print(a + \"in\")\n",
    "elif len(a)<3:\n",
    "    print(a)"
   ]
  },
  {
   "cell_type": "code",
   "execution_count": 47,
   "id": "38ad35b5-2c79-405d-9f63-2c9049112cac",
   "metadata": {},
   "outputs": [
    {
     "name": "stdin",
     "output_type": "stream",
     "text": [
      "enter string Heelllooooo\n"
     ]
    },
    {
     "name": "stdout",
     "output_type": "stream",
     "text": [
      "length of string is 11\n",
      "string is not multiple of 4\n"
     ]
    }
   ],
   "source": [
    "#Q22\n",
    "x = str(input(\"enter string\"))\n",
    "print(\"length of string is\",len(x))\n",
    "if len(x) % 4 == 0:\n",
    "    print(x[::-1])\n",
    "else:\n",
    "    print(\"string is not multiple of 4\")"
   ]
  },
  {
   "cell_type": "code",
   "execution_count": 49,
   "id": "594c8cd1-19b9-472d-8ece-e4bb7a5a5ecd",
   "metadata": {},
   "outputs": [
    {
     "name": "stdout",
     "output_type": "stream",
     "text": [
      "Giy\n"
     ]
    }
   ],
   "source": [
    "#Q23\n",
    "a = \"Gipsy\"\n",
    "d = \"\"\n",
    "if len(a)>2:\n",
    "    b = a[:2]\n",
    "    c = a[4:]\n",
    "    d = b +\"\"+ c\n",
    "    print(d)\n",
    "else:\n",
    "    print(d)"
   ]
  },
  {
   "cell_type": "code",
   "execution_count": 53,
   "id": "f9762a62-15d0-4f80-a164-4f947e4f82de",
   "metadata": {},
   "outputs": [
    {
     "name": "stdout",
     "output_type": "stream",
     "text": [
      "Ciuitie\n"
     ]
    }
   ],
   "source": [
    "#Q24\n",
    "a = \"Cute\"\n",
    "b = \"i\"\n",
    "c = b.join(a)\n",
    "print(c)"
   ]
  },
  {
   "cell_type": "code",
   "execution_count": 55,
   "id": "0069cf0d-a6e0-4d81-92fb-dc72526d35d3",
   "metadata": {},
   "outputs": [
    {
     "name": "stdout",
     "output_type": "stream",
     "text": [
      "[9, 15, 13, 22]\n",
      "[22, 13, 15, 9]\n"
     ]
    }
   ],
   "source": [
    "#Q25\n",
    "a = [9,15,13,22]\n",
    "print(a)\n",
    "a.reverse()\n",
    "print(a)"
   ]
  },
  {
   "cell_type": "code",
   "execution_count": 1,
   "id": "18314522-a106-4564-8d64-001f18a5c6f9",
   "metadata": {},
   "outputs": [
    {
     "name": "stdout",
     "output_type": "stream",
     "text": [
      "['we', 'are', 'open', 'today']\n",
      "['we', 'are', 'open']\n"
     ]
    }
   ],
   "source": [
    "#Q26\n",
    "a = [\"we\", \"are\", \"open\", \"today\"]\n",
    "print(a)\n",
    "a.pop()\n",
    "print(a)"
   ]
  },
  {
   "cell_type": "markdown",
   "id": "2173375d-94d3-4f78-916f-41ef1f34d56c",
   "metadata": {},
   "source": [
    "Q27: Suppose list1 is [2, 33, 222, 14, and 25], what is list1 [-1]?\n",
    "- list1[-1] = 25"
   ]
  },
  {
   "cell_type": "markdown",
   "id": "2ce8308c-50c1-4650-82a4-572a4a8053c4",
   "metadata": {},
   "source": [
    "Q28: Differentiate between append () and extend () methods?\n",
    "- append() and extend() both are used to add elements to the end of list but in append() we can add only one elements while in extend()\n",
    "  we can add more than one elements at the same time."
   ]
  },
  {
   "cell_type": "code",
   "execution_count": 7,
   "id": "a2176981-95ca-4c45-a5ce-dced3dd4b904",
   "metadata": {},
   "outputs": [
    {
     "name": "stdout",
     "output_type": "stream",
     "text": [
      "h is largest\n",
      "e is smallest\n",
      "the addition is: 219\n"
     ]
    }
   ],
   "source": [
    "#Q29\n",
    "h = 90\n",
    "e = 46\n",
    "l = 83\n",
    "if h>e:\n",
    "    print(\"h is largest\")\n",
    "elif e>l:\n",
    "    print(\"e is largest\")\n",
    "else:\n",
    "    print(\"l is largest\")\n",
    "if h<e:\n",
    "    print(\"h is smallest\") \n",
    "elif e<l:\n",
    "    print(\"e is smallest\")\n",
    "else:\n",
    "    print(\"l is smallest\")\n",
    "print(\"the addition is:\",h+e+l)"
   ]
  },
  {
   "cell_type": "code",
   "execution_count": 9,
   "id": "f4f5287a-7a0b-4681-9857-fb741483b444",
   "metadata": {},
   "outputs": [
    {
     "name": "stdout",
     "output_type": "stream",
     "text": [
      "Comparing the list using conditional operator\n",
      "a and b doesn't have same element\n"
     ]
    }
   ],
   "source": [
    "#Q30\n",
    "print(\"Comparing the list using conditional operator\")\n",
    "a = [12,14,18,20]\n",
    "b = [55,56,57,58]\n",
    "if a == b:\n",
    "    print(\"a and b have same elements\")\n",
    "else:\n",
    "    print(\"a and b doesn't have same element\")"
   ]
  },
  {
   "cell_type": "code",
   "execution_count": 17,
   "id": "1b25dcc4-b5ef-4b74-b405-512ff0de8735",
   "metadata": {},
   "outputs": [
    {
     "name": "stdout",
     "output_type": "stream",
     "text": [
      "Number of strings where first and last character are same: 1\n"
     ]
    }
   ],
   "source": [
    "#Q31\n",
    "a = [\"Belle\", \"Bye\", \"Hen\", \"Heaven\", \"hhhh\", \"Apple\"]\n",
    "count = 0\n",
    "for s in a:\n",
    "    if len(s) >= 2 and s[0] == s[-1]:\n",
    "        count += 1\n",
    "print(\"Number of strings where first and last character are same:\",count) "
   ]
  },
  {
   "cell_type": "code",
   "execution_count": 19,
   "id": "e8f3b47a-696e-47c4-a6a1-299ce6942444",
   "metadata": {},
   "outputs": [
    {
     "name": "stdout",
     "output_type": "stream",
     "text": [
      "{1, 2, 3, 'key', 'ok'}\n"
     ]
    }
   ],
   "source": [
    "#Q32\n",
    "a = [\"ok\",1,2,3,\"ok\",3,1,\"key\"]\n",
    "a = set(a)\n",
    "print(a)"
   ]
  },
  {
   "cell_type": "code",
   "execution_count": 21,
   "id": "cb2cbe69-2653-47fd-ab7a-fecc55043c2d",
   "metadata": {},
   "outputs": [
    {
     "name": "stdout",
     "output_type": "stream",
     "text": [
      "0\n",
      "list is empty\n"
     ]
    }
   ],
   "source": [
    "#Q33\n",
    "a = []\n",
    "print(len(a))\n",
    "if len(a) > 0:\n",
    "    print(\"list is not empty\")\n",
    "else:\n",
    "    print(\"list is empty\")"
   ]
  },
  {
   "cell_type": "code",
   "execution_count": 23,
   "id": "81784f74-c37c-4eec-a4e5-9a7eee24c338",
   "metadata": {},
   "outputs": [
    {
     "name": "stdout",
     "output_type": "stream",
     "text": [
      "True\n"
     ]
    }
   ],
   "source": [
    "#Q34\n",
    "def list(list1,list2):\n",
    "    for x in list1:\n",
    "        for y in list2:\n",
    "            if x == y:\n",
    "                print(\"True\")\n",
    "\n",
    "list([1,2,3,4],[3,5,6,7])"
   ]
  },
  {
   "cell_type": "code",
   "execution_count": 27,
   "id": "c9135edd-65ec-43a0-9152-ec9cfc66750f",
   "metadata": {},
   "outputs": [
    {
     "name": "stdout",
     "output_type": "stream",
     "text": [
      "the first five elements\n",
      "[1, 4, 9, 16, 25]\n",
      "the last five elements\n",
      "[225, 256, 289, 324, 361]\n"
     ]
    }
   ],
   "source": [
    "#Q35\n",
    "squares = [a**2 for a in range(1,20)]\n",
    "print(\"the first five elements\")\n",
    "print(squares[:5])\n",
    "print(\"the last five elements\")\n",
    "print(squares[-5:])"
   ]
  },
  {
   "cell_type": "code",
   "execution_count": 29,
   "id": "5b070f8b-4cbe-4cad-90f5-6a6b73148744",
   "metadata": {},
   "outputs": [
    {
     "name": "stdout",
     "output_type": "stream",
     "text": [
      "['hello', 'hey', 'hii', 'okayy', 'okay']\n"
     ]
    }
   ],
   "source": [
    "#Q36\n",
    "def unique_elements(input_list):\n",
    "    unique_list = []\n",
    "    for item in input_list:\n",
    "        if item not in unique_list:\n",
    "            unique_list.append(item)\n",
    "    return unique_list\n",
    "\n",
    "my_list = [\"hello\",\"hello\",\"hey\",\"hii\",\"hello\",\"okayy\",\"okay\"]\n",
    "print(unique_elements(my_list))"
   ]
  },
  {
   "cell_type": "code",
   "execution_count": 31,
   "id": "0e22bfae-c79b-48de-9628-48e99798f387",
   "metadata": {},
   "outputs": [
    {
     "name": "stdout",
     "output_type": "stream",
     "text": [
      "['Welcome to Data Analysis Course']\n",
      "type of a before conversion is: <class 'list'>\n",
      "type of a after conversion is:  <class 'str'>\n"
     ]
    }
   ],
   "source": [
    "#Q37\n",
    "a = [\"Welcome to Data Analysis Course\"]\n",
    "print(a)\n",
    "print(\"type of a before conversion is:\",type(a))\n",
    "a = str(a)\n",
    "print(\"type of a after conversion is: \",type(a))"
   ]
  },
  {
   "cell_type": "code",
   "execution_count": 35,
   "id": "9612afe0-5c10-4124-a439-d543890f791b",
   "metadata": {},
   "outputs": [],
   "source": [
    "import random"
   ]
  },
  {
   "cell_type": "code",
   "execution_count": 37,
   "id": "851228a4-879c-49a2-abea-b0fdc74265ae",
   "metadata": {},
   "outputs": [
    {
     "name": "stdout",
     "output_type": "stream",
     "text": [
      "8\n"
     ]
    }
   ],
   "source": [
    "#Q38\n",
    "a = [2,4,6,8,0]\n",
    "b = random.choice(a)\n",
    "print(b)\n"
   ]
  },
  {
   "cell_type": "code",
   "execution_count": 39,
   "id": "6af4a456-0b8d-43c4-abda-a00d79c82264",
   "metadata": {},
   "outputs": [
    {
     "name": "stdout",
     "output_type": "stream",
     "text": [
      "[0, 2, 3, 6, 7, 8, 9]\n",
      "second smallest integer is 2\n"
     ]
    }
   ],
   "source": [
    "#Q39\n",
    "a = [7,9,3,6,8,2,0]\n",
    "a.sort()\n",
    "print(a)\n",
    "print(\"second smallest integer is\",a[1])"
   ]
  },
  {
   "cell_type": "code",
   "execution_count": 43,
   "id": "8c6b1293-b58b-4e8d-bd09-7791fe858dd6",
   "metadata": {},
   "outputs": [
    {
     "name": "stdout",
     "output_type": "stream",
     "text": [
      "Original list: [9, 8, 9, 8, 3, 7, 8, 4]\n",
      "List with unique values: [9, 8, 3, 7, 4]\n"
     ]
    }
   ],
   "source": [
    "#Q40\n",
    "my_list = [9,8,9,8,3,7,8,4]\n",
    "unique_list = []\n",
    "for item in my_list:\n",
    "    if item not in unique_list:\n",
    "        unique_list.append(item)\n",
    "print(\"Original list:\", my_list)\n",
    "print(\"List with unique values:\", unique_list)"
   ]
  },
  {
   "cell_type": "code",
   "execution_count": 63,
   "id": "2160d4f0-b3e3-41ad-bf1b-ba5301b76e40",
   "metadata": {},
   "outputs": [
    {
     "name": "stdout",
     "output_type": "stream",
     "text": [
      "It contains sublist? False\n"
     ]
    }
   ],
   "source": [
    "#Q41\n",
    "a = [1, 2, 3, 4, 5]\n",
    "b = [6,7]\n",
    "sub_list = len(b)\n",
    "main_list = len(a)\n",
    "s = False\n",
    "for i in range(main_list - sub_list + 1):\n",
    "    if main_list == b:\n",
    "        s = True\n",
    "        break\n",
    "print(\"It contains sublist?\",s)"
   ]
  },
  {
   "cell_type": "code",
   "execution_count": 65,
   "id": "fabdb35a-5387-41ea-8332-4ae365087ae7",
   "metadata": {},
   "outputs": [
    {
     "name": "stdout",
     "output_type": "stream",
     "text": [
      "before splitting [1, 2, 3, 4]\n",
      "after splitting them in different variables\n",
      "1\n",
      "2\n",
      "3\n",
      "4\n"
     ]
    }
   ],
   "source": [
    "#Q42\n",
    "a = [1,2,3,4]\n",
    "print(\"before splitting\",a)\n",
    "(e,r,y,t) = a\n",
    "print(\"after splitting them in different variables\")\n",
    "print(e)\n",
    "print(r)\n",
    "print(y)\n",
    "print(t)"
   ]
  },
  {
   "cell_type": "markdown",
   "id": "b87dc42b-0b35-4de7-8b34-9e8f014f965c",
   "metadata": {},
   "source": [
    "Q43: What is tuple? Difference between list and tuple.\n",
    "- Tuple is one type of collection which can store values of different types.\n",
    "\n",
    "- The difference between tuple and list is that:\n",
    "- list is mutable and tuple is not mutable\n",
    "- List is denoted with [] and Tuple is denoted with ()\n",
    "- List is reversable and tuple is not\n"
   ]
  },
  {
   "cell_type": "code",
   "execution_count": 84,
   "id": "3f8b6132-919d-4170-b186-9f651c44143f",
   "metadata": {},
   "outputs": [
    {
     "name": "stdout",
     "output_type": "stream",
     "text": [
      "('No', 88, 'Yes', (4+7j), 8.5)\n"
     ]
    }
   ],
   "source": [
    "#Q44\n",
    "a = (\"No\",88,\"Yes\",4+7j,8.5)\n",
    "print(a)"
   ]
  },
  {
   "cell_type": "code",
   "execution_count": 101,
   "id": "d422bde0-3e42-4a7b-aa16-cf565bd57104",
   "metadata": {},
   "outputs": [
    {
     "ename": "TypeError",
     "evalue": "list() missing 1 required positional argument: 'list2'",
     "output_type": "error",
     "traceback": [
      "\u001b[1;31m---------------------------------------------------------------------------\u001b[0m",
      "\u001b[1;31mTypeError\u001b[0m                                 Traceback (most recent call last)",
      "Cell \u001b[1;32mIn[101], line 4\u001b[0m\n\u001b[0;32m      2\u001b[0m a \u001b[38;5;241m=\u001b[39m (\u001b[38;5;124m\"\u001b[39m\u001b[38;5;124mhello\u001b[39m\u001b[38;5;124m\"\u001b[39m,\u001b[38;5;124m\"\u001b[39m\u001b[38;5;124mhi\u001b[39m\u001b[38;5;124m\"\u001b[39m,\u001b[38;5;124m\"\u001b[39m\u001b[38;5;124mhey\u001b[39m\u001b[38;5;124m\"\u001b[39m,\u001b[38;5;124m\"\u001b[39m\u001b[38;5;124mhiii\u001b[39m\u001b[38;5;124m\"\u001b[39m)\n\u001b[0;32m      3\u001b[0m (w,x,y,z) \u001b[38;5;241m=\u001b[39m a\n\u001b[1;32m----> 4\u001b[0m w \u001b[38;5;241m=\u001b[39m \u001b[38;5;28mlist\u001b[39m(w)\n\u001b[0;32m      5\u001b[0m \u001b[38;5;28mprint\u001b[39m(w)\n\u001b[0;32m      6\u001b[0m x \u001b[38;5;241m=\u001b[39m \u001b[38;5;28mlist\u001b[39m(x)\n",
      "\u001b[1;31mTypeError\u001b[0m: list() missing 1 required positional argument: 'list2'"
     ]
    }
   ],
   "source": [
    "#Q45\n",
    "a = (\"hello\",\"hi\",\"hey\",\"hiii\")\n",
    "(w,x,y,z) = a\n",
    "w = list(w)\n",
    "print(w)\n",
    "x = list(x)\n",
    "print(x)\n",
    "y = list(y)\n",
    "print(y)\n",
    "z = list(z)\n",
    "print(z)"
   ]
  },
  {
   "cell_type": "code",
   "execution_count": 4,
   "id": "1bbdf5d3-9886-4dc4-8ac8-0cab7b672706",
   "metadata": {},
   "outputs": [
    {
     "name": "stdout",
     "output_type": "stream",
     "text": [
      "('hi', 3, 'ok', 67)\n",
      "type before <class 'tuple'>\n",
      "{'hi': 1, 3: 2, 'ok': 3, 67: 4}\n",
      "type after <class 'dict'>\n"
     ]
    }
   ],
   "source": [
    "#Q46\n",
    "tup = (\"hi\",3,\"ok\",67)\n",
    "print(tup)\n",
    "print(\"type before\",type(tup))\n",
    "b = (1,2,3,4)\n",
    "dictionary = dict(zip(tup,b))\n",
    "print(dictionary)\n",
    "print(\"type after\",type(dictionary))"
   ]
  },
  {
   "cell_type": "markdown",
   "id": "1c2dcd09-083d-4a83-ae85-4573d3b80f6d",
   "metadata": {},
   "source": [
    "Q47: How will you create a dictionary using tuples in python?\n",
    "- using dict() function we can convert a tuple to a dictionary. A dictionary object can be created with the dict() function. The dictionary is returned \n",
    "by the dict() method, which takes a tuple of tuples as an argument. A key-value pair is contained in each tuple\n"
   ]
  },
  {
   "cell_type": "code",
   "execution_count": 13,
   "id": "31514e44-0203-4546-ab87-492f00a2c441",
   "metadata": {},
   "outputs": [
    {
     "name": "stdout",
     "output_type": "stream",
     "text": [
      "the original dictionart {'name': 'Aastha', 'id': 'AK', 'address': 'Kapoor Enterprise', 'education': 'BCA'}\n",
      "{'id': 'AK', 'name': 'Aastha', 'education': 'BCA', 'address': 'Kapoor Enterprise'}\n",
      "{'address': 'Kapoor Enterprise', 'education': 'BCA', 'name': 'Aastha', 'id': 'AK'}\n"
     ]
    }
   ],
   "source": [
    "#Q48\n",
    "a = {\n",
    "    \"name\" : \"Aastha\",\n",
    "    \"id\" : \"AK\",\n",
    "    \"address\" : \"Kapoor Enterprise\",\n",
    "    \"education\" : \"BCA\"\n",
    "}\n",
    "print(\"the original dictionart\",a)\n",
    "c = dict(sorted(a.items(), key =lambda item: item[1]))\n",
    "print(c)\n",
    "d = dict(sorted(a.items(), key =lambda item: item[1],reverse=True ))\n",
    "print(d)"
   ]
  },
  {
   "cell_type": "code",
   "execution_count": 9,
   "id": "ad33035d-b3ae-48da-a28a-216d727259f6",
   "metadata": {},
   "outputs": [
    {
     "name": "stdout",
     "output_type": "stream",
     "text": [
      "{'name': 'Anurag', 'age': 32}\n"
     ]
    }
   ],
   "source": [
    "#Q49\n",
    "a = {\n",
    "    \"name\" : \"Anurag\"\n",
    "}\n",
    "b = {\n",
    "    \"age\" : 32\n",
    "}\n",
    "c = {**a,**b}\n",
    "print(c)"
   ]
  },
  {
   "cell_type": "code",
   "execution_count": 21,
   "id": "65a39635-8fef-481b-92c6-51a5d6e2a8e9",
   "metadata": {},
   "outputs": [
    {
     "name": "stdout",
     "output_type": "stream",
     "text": [
      "it exist\n"
     ]
    }
   ],
   "source": [
    "#Q50\n",
    "a = {\n",
    "    \"name\" : \"Aastha\",\n",
    "    \"age\" : 25,\n",
    "    \"number\" : 1,\n",
    "    \"college\" : \"Naagpur Medical College\"\n",
    "}\n",
    "if \"name\" in a:\n",
    "    print(\"it exist\")\n",
    "else:\n",
    "    print(\"no, it doesn't exist\")"
   ]
  },
  {
   "cell_type": "code",
   "execution_count": 25,
   "id": "d2a43385-b367-4016-978a-faf8c4daa7b3",
   "metadata": {},
   "outputs": [
    {
     "name": "stdout",
     "output_type": "stream",
     "text": [
      "name: Aastha\n",
      "age: 25\n",
      "gender: Female\n",
      "degree: Doctor\n"
     ]
    }
   ],
   "source": [
    "#Q51\n",
    "data = {\n",
    "    \"name:\" : \"Aastha\",\n",
    "    \"age:\" : 25,\n",
    "    \"gender:\" : \"Female\",\n",
    "    \"degree:\" : \"Doctor\"\n",
    "}\n",
    "for x,y in data.items():\n",
    "    print(x,y)"
   ]
  },
  {
   "cell_type": "code",
   "execution_count": 27,
   "id": "5f04be99-e3be-47d8-87ad-069d3754850c",
   "metadata": {},
   "outputs": [
    {
     "name": "stdout",
     "output_type": "stream",
     "text": [
      "name:\n",
      "age:\n",
      "gender:\n",
      "degree:\n"
     ]
    }
   ],
   "source": [
    "#Q52\n",
    "data = {\n",
    "    \"name:\" : \"Aastha\",\n",
    "    \"age:\" : 25,\n",
    "    \"gender:\" : \"Female\",\n",
    "    \"degree:\" : \"Doctor\"\n",
    "   \n",
    "}\n",
    "for x in data.keys():\n",
    "    print(x)"
   ]
  },
  {
   "cell_type": "code",
   "execution_count": 29,
   "id": "eab50eef-6562-4f17-a7fe-0ceb061f9005",
   "metadata": {},
   "outputs": [
    {
     "name": "stdout",
     "output_type": "stream",
     "text": [
      "Mapped dictionary: {'e': 5, 'h': 4, 'l': 3}\n",
      "5 e\n",
      "4 h\n",
      "3 l\n"
     ]
    }
   ],
   "source": [
    "#Q53\n",
    "d = {\"h\",\"e\",\"l\",\"l\",\"l\"}\n",
    "l = [5,4,3,2,1]\n",
    "mapped_dict = dict(zip(d, l))\n",
    "print(\"Mapped dictionary:\", mapped_dict)\n",
    "for d,l in mapped_dict.items():\n",
    "    print(l,d)"
   ]
  },
  {
   "cell_type": "markdown",
   "id": "4cff7ff1-e212-4891-b851-f8c827b03e83",
   "metadata": {},
   "source": [
    "Q54: Write a Python program to check multiple keys exists in a dictionary\n",
    "- Multiple keys doesn't exist in dictionary \n"
   ]
  },
  {
   "cell_type": "code",
   "execution_count": 31,
   "id": "16857742-2999-4ade-9869-4585339990d1",
   "metadata": {},
   "outputs": [
    {
     "name": "stdout",
     "output_type": "stream",
     "text": [
      "{'num': 777, 'num1': 99, 'num2': 8888, 'num3': 222, 'num4': 11, 'num5': 900}\n"
     ]
    }
   ],
   "source": [
    "#Q55\n",
    "f = {\n",
    "    \"num\" : 777,\n",
    "    \"num1\" : 99,\n",
    "    \"num2\" : 8888\n",
    "}\n",
    "g = {\n",
    "    \"num3\" : 222,\n",
    "    \"num4\" : 11,\n",
    "    \"num5\" : 900\n",
    "}\n",
    "z = f.copy()\n",
    "y = {**f,**g}\n",
    "print(y)"
   ]
  },
  {
   "cell_type": "code",
   "execution_count": 33,
   "id": "4859fdf4-6134-4d46-b7a1-3718d3caca3a",
   "metadata": {},
   "outputs": [
    {
     "name": "stdout",
     "output_type": "stream",
     "text": [
      "Mapped dictionary: {'a': 400, 'b': 400, 'd': 400, 'c': 300}\n"
     ]
    }
   ],
   "source": [
    "#Q56\n",
    "keys = ['a', 'b', 'd', 'c']\n",
    "values = [400, 400, 400, 300]\n",
    "mapped_dict = dict(zip(keys, values))\n",
    "print(\"Mapped dictionary:\", mapped_dict)"
   ]
  },
  {
   "cell_type": "code",
   "execution_count": 35,
   "id": "132d9bdd-112b-457e-be54-83caf49fae88",
   "metadata": {},
   "outputs": [
    {
     "name": "stdout",
     "output_type": "stream",
     "text": [
      "a is greater\n"
     ]
    }
   ],
   "source": [
    "#Q57\n",
    "a = {\n",
    "    \"num\" : 10009,\n",
    "    \"num1\" : 55,\n",
    "    \"num2\" : 800\n",
    "}\n",
    "if a[\"num\"]>a[\"num1\"] and a[\"num\"]>a[\"num2\"]:\n",
    "    print(\"a is greater\")\n",
    "elif a[\"num1\"]>a[\"num\"] and a[\"num1\"]>a[\"num2\"]:\n",
    "    print(\"b is greater\")\n",
    "else:\n",
    "    print(\"c is greater\")"
   ]
  },
  {
   "cell_type": "code",
   "execution_count": 37,
   "id": "6fc54144-a3b9-4e48-8fd2-c3c91c84170b",
   "metadata": {},
   "outputs": [
    {
     "name": "stdout",
     "output_type": "stream",
     "text": [
      "{'item1': 1150, 'item2': 300}\n"
     ]
    }
   ],
   "source": [
    "#Q58\n",
    "data = [{'item': 'item1', 'amount': 400}, \n",
    "        {'item': 'item2', 'amount': 300}, \n",
    "        {'item': 'item1', 'amount': 750}]\n",
    "combined = {}\n",
    "\n",
    "for entry in data:\n",
    "    item = entry['item']\n",
    "    amount = entry[\"amount\"]\n",
    "    if item in combined:\n",
    "        combined[item]+= amount\n",
    "    else:\n",
    "        combined[item] = amount\n",
    "\n",
    "print(combined)"
   ]
  },
  {
   "cell_type": "code",
   "execution_count": 45,
   "id": "61f71a58-080e-49ec-bf21-5b5070ee42e8",
   "metadata": {},
   "outputs": [
    {
     "name": "stdout",
     "output_type": "stream",
     "text": [
      "length of string is  37\n",
      "elements: {'H': 1, 'e': 8, ' ': 6, 'p': 2, 'c': 4, 'k': 2, 'd': 3, 'h': 2, 'r': 2, 's': 1, 'i': 1, 'n': 1, 'o': 1, 'w': 1, 'l': 1, 'a': 1}\n",
      "crowded\n",
      "type before <class 'str'>\n",
      "{'c': 1, 'r': 2, 'o': 3, 'w': 4, 'd': 5}\n",
      "after : <class 'dict'>\n"
     ]
    }
   ],
   "source": [
    "#Q59\n",
    "a = \"He pecked her cheeks in crowded place\"\n",
    "print(\"length of string is \",len(a))\n",
    "b = {}\n",
    "for x in a:\n",
    "    if x in b:\n",
    "        b[x] +=1\n",
    "    else:\n",
    "        b[x] = 1\n",
    "print(\"elements:\",b)\n",
    "#or\n",
    "a = \"crowded\"\n",
    "print(a)\n",
    "print(\"type before\",type(a))\n",
    "b = [1,2,3,4,5]\n",
    "dictionary = dict(zip(a,b))\n",
    "print(dictionary)\n",
    "print(\"after :\",type(dictionary))"
   ]
  },
  {
   "cell_type": "code",
   "execution_count": 47,
   "id": "4eb7f07d-ae71-4f07-8fd0-d216f92a249d",
   "metadata": {},
   "outputs": [
    {
     "name": "stdout",
     "output_type": "stream",
     "text": [
      "elements : {'w': 1, '3': 1, 'r': 2, 'e': 2, 's': 1, 'o': 1, 'u': 1, 'c': 1}\n"
     ]
    }
   ],
   "source": [
    "#Q60\n",
    "b = \"w3resource\"\n",
    "a = {}\n",
    "for x in b:\n",
    "    if x in a:\n",
    "        a[x] += 1\n",
    "    else:\n",
    "        a[x] = 1\n",
    "print(\"elements :\" ,a)\n"
   ]
  },
  {
   "cell_type": "code",
   "execution_count": 49,
   "id": "b61374bd-04f7-476a-9d03-a033b0c046cd",
   "metadata": {},
   "outputs": [
    {
     "name": "stdout",
     "output_type": "stream",
     "text": [
      "the factorial is 40320\n"
     ]
    }
   ],
   "source": [
    "#Q61\n",
    "def factorial(n):\n",
    "    if n < 0:\n",
    "        print(\"Enter positive number\")\n",
    "    if n == 0 or n == 1:\n",
    "        return 1\n",
    "    result = 1\n",
    "    for i in range(2, n + 1):\n",
    "        result *= i\n",
    "    return result\n",
    "\n",
    "print(\"the factorial is\",factorial(8))"
   ]
  },
  {
   "cell_type": "code",
   "execution_count": 57,
   "id": "0fc56e0f-4f2c-4bc8-8704-e4bc97d34df5",
   "metadata": {},
   "outputs": [
    {
     "name": "stdout",
     "output_type": "stream",
     "text": [
      "no\n",
      "no\n",
      "no\n",
      "no\n",
      "no\n",
      "number exist\n",
      "no\n",
      "no\n",
      "no\n",
      "no\n"
     ]
    }
   ],
   "source": [
    "#Q62\n",
    "for n in range(10):\n",
    "    if n == 5:\n",
    "        print(\"number exist\")\n",
    "    else:\n",
    "     print(\"no\")"
   ]
  },
  {
   "cell_type": "code",
   "execution_count": 59,
   "id": "5ca304a6-7a3f-408b-a0d0-ef93dacdf4d3",
   "metadata": {},
   "outputs": [
    {
     "name": "stdout",
     "output_type": "stream",
     "text": [
      "8 is not a perfect number.\n"
     ]
    }
   ],
   "source": [
    "#Q63\n",
    "def number(n):\n",
    "    if n <= 1:\n",
    "        print(n,\"is not a perfect number.\")\n",
    "    \n",
    "    divisors_sum = 0\n",
    "    for i in range(1, n):\n",
    "        if n % i == 0:\n",
    "            divisors_sum += i\n",
    "    \n",
    "    if divisors_sum == n:\n",
    "        print(n,\" is a perfect number.\")\n",
    "    else:\n",
    "        print(n,\"is not a perfect number.\")\n",
    "\n",
    "number(8)"
   ]
  },
  {
   "cell_type": "code",
   "execution_count": 69,
   "id": "cab2ed74-8b39-4a2a-9852-7100b0f2f9d3",
   "metadata": {},
   "outputs": [
    {
     "name": "stdout",
     "output_type": "stream",
     "text": [
      "palindrome\n",
      "not palindrome\n"
     ]
    }
   ],
   "source": [
    "#Q64\n",
    "def palindrome(string):\n",
    "    if string == string[::-1]:\n",
    "        print(\"palindrome\")\n",
    "    else:\n",
    "        print(\"not palindrome\")\n",
    "\n",
    "palindrome(\"madam\")\n",
    "\"The character is case sensitive so it's not palindrome:\"\n",
    "palindrome(\"Madam\")\n"
   ]
  },
  {
   "cell_type": "markdown",
   "id": "c9dc69f6-665b-4981-9ede-f9c77a4b1d74",
   "metadata": {},
   "source": [
    "Q65: How Many Basic Types of Functions Are Available in Python?\n",
    "- There are two types of functions available in Python which are built-in and user defined, built-in functions are already pre-made and we can directly \n",
    "excess and user-defined functions are customized by using keyword def\n",
    "\n"
   ]
  },
  {
   "cell_type": "code",
   "execution_count": 74,
   "id": "15a2d608-67d4-4b29-a7f1-f7d079aba7a6",
   "metadata": {},
   "outputs": [
    {
     "name": "stdout",
     "output_type": "stream",
     "text": [
      "9\n"
     ]
    }
   ],
   "source": [
    "#Q66\n",
    "a = [1,3,5,7,9,11,12]\n",
    "import random\n",
    "b = random.choice(a)\n",
    "print(b)"
   ]
  },
  {
   "cell_type": "code",
   "execution_count": 86,
   "id": "fa794330-5f1f-4b7f-9ab2-2a1335779a30",
   "metadata": {},
   "outputs": [
    {
     "name": "stdout",
     "output_type": "stream",
     "text": [
      "6\n"
     ]
    }
   ],
   "source": [
    "#Q67\n",
    "#Random module is imported before Q38\n",
    "print(random.randrange(1,10))"
   ]
  },
  {
   "cell_type": "code",
   "execution_count": 88,
   "id": "f3c4940e-977e-4098-b20d-9ca3589f8c9e",
   "metadata": {},
   "outputs": [
    {
     "name": "stdout",
     "output_type": "stream",
     "text": [
      "0.9496422391194914\n"
     ]
    }
   ],
   "source": [
    "#Q68\n",
    "print(random.random())"
   ]
  },
  {
   "cell_type": "markdown",
   "id": "440517d0-9dfd-4234-ac5c-a6e4404bbd83",
   "metadata": {},
   "source": [
    "Q69: How will you set the starting value in generating random numbers? \n",
    "- After importing random module, in randchoice() we can give start and end and it will return number between this range."
   ]
  },
  {
   "cell_type": "markdown",
   "id": "eba92a7a-0fb5-4461-a280-8b6d818543c7",
   "metadata": {},
   "source": [
    "Q70:  How will you randomize the items of a list in place?\n",
    "- You can randomize the items of a list in place using the shuffle() function from the random module."
   ]
  },
  {
   "cell_type": "markdown",
   "id": "1805037c-9a7d-4c84-8be1-568fe829d89d",
   "metadata": {},
   "source": [
    "Q71: What is File function in python? What are keywords to create and write file.\n",
    "- File functions are used to handle file operations such as opening, reading, writing, and closing files. \n",
    "The keywords for writing is \"w\" and to write we use .write() and for creating file is open(\"filename.txt\",\"x\")"
   ]
  },
  {
   "cell_type": "code",
   "execution_count": 95,
   "id": "32af460e-800e-4bb6-99f6-962be8bd5208",
   "metadata": {},
   "outputs": [
    {
     "name": "stdout",
     "output_type": "stream",
     "text": [
      "Good Morning!!!\n",
      "Welcome to Python\n"
     ]
    }
   ],
   "source": [
    "#Q72\n",
    "s = open(\"Hiii.txt\",\"r\")\n",
    "print(s.read())\n",
    "s.close()"
   ]
  },
  {
   "cell_type": "code",
   "execution_count": 101,
   "id": "c22cd98c-354d-4b62-9294-fbe945e76727",
   "metadata": {},
   "outputs": [
    {
     "name": "stdout",
     "output_type": "stream",
     "text": [
      "Good Morning!!!\n",
      "Welcome to PythonWhat do you want?\n",
      " What do you want?\n",
      "Good Morning!!!\n",
      "Welcome to PythonWhat do you want?\n",
      " What do you want?What do you want?\n"
     ]
    }
   ],
   "source": [
    "#Q73\n",
    "s = open(\"Hiii.txt\",\"r\")\n",
    "print(s.read())\n",
    "s.close()\n",
    "\n",
    "s = open(\"Hiii.txt\",\"a\")\n",
    "s.write(\"What do you want?\")\n",
    "s.close()\n",
    "\n",
    "s = open(\"Hiii.txt\",\"r\")\n",
    "print(s.read())\n",
    "s.close()"
   ]
  },
  {
   "cell_type": "code",
   "execution_count": 107,
   "id": "d6d6388e-6dd3-4fe5-830d-8b20b33157a5",
   "metadata": {},
   "outputs": [
    {
     "name": "stdout",
     "output_type": "stream",
     "text": [
      "Good Morning!!!\n",
      "Welcome to PythonWhat do you want?\n",
      "What do you want?What do you want?\n",
      "I'm your today's assistant!!!\n",
      "How can I help you?\n"
     ]
    }
   ],
   "source": [
    "#Q74\n",
    "s = \"Hiii.txt\"\n",
    "n = 5\n",
    "s = open(\"Hiii.txt\",\"r\")\n",
    "for i in range(n):\n",
    "    line = s.readline()\n",
    "    if not line:\n",
    "        break\n",
    "    print(line.strip())"
   ]
  },
  {
   "cell_type": "code",
   "execution_count": 105,
   "id": "02a7bd0b-2816-434b-952d-25a5cc3b580e",
   "metadata": {},
   "outputs": [
    {
     "name": "stdout",
     "output_type": "stream",
     "text": [
      "Good Morning!!!\n",
      "Welcome to PythonWhat do you want?\n",
      "What do you want?What do you want?\n",
      "I'm your today's assistant!!!\n",
      "How can I help you?\n"
     ]
    }
   ],
   "source": [
    "#Q75\n",
    "s = \"Hiii.txt\"\n",
    "n = 5\n",
    "s = open(\"Hiii.txt\",\"r\")\n",
    "line = s.readlines()\n",
    "last_line = line[-n:]\n",
    "for line in last_line:\n",
    "    print(line.strip())"
   ]
  },
  {
   "cell_type": "code",
   "execution_count": 109,
   "id": "dd24f47a-d1cc-4ddb-929e-ad06ef8be319",
   "metadata": {},
   "outputs": [
    {
     "name": "stdout",
     "output_type": "stream",
     "text": [
      "['Good Morning!!!', 'Welcome to PythonWhat do you want?', 'What do you want?What do you want?', \"I'm your today's assistant!!!\", 'How can I help you?']\n",
      "<class 'list'>\n"
     ]
    }
   ],
   "source": [
    "#Q76\n",
    "s = open(\"Hiii.txt\",\"r\")\n",
    "a = []\n",
    "for x in s:\n",
    "    a.append(x.strip())\n",
    "print(a)\n",
    "print(type(a))"
   ]
  },
  {
   "cell_type": "code",
   "execution_count": 111,
   "id": "864e69af-60f5-498d-8564-b90ab8923590",
   "metadata": {},
   "outputs": [
    {
     "name": "stdout",
     "output_type": "stream",
     "text": [
      "Good Morning!!!\n",
      "Welcome to PythonWhat do you want?\n",
      " What do you want?What do you want?\n",
      "I'm your today's assistant!!! \n",
      "How can I help you?\n",
      "\n"
     ]
    }
   ],
   "source": [
    "#Q77\n",
    "s = open(\"Hiii.txt\",\"r\")\n",
    "a = \"\"\n",
    "for x in s:\n",
    "    a+=x\n",
    "print(a)"
   ]
  },
  {
   "cell_type": "code",
   "execution_count": 113,
   "id": "49af90a5-67f6-4004-8fa2-9e144deea84f",
   "metadata": {},
   "outputs": [
    {
     "name": "stdout",
     "output_type": "stream",
     "text": [
      "['assistant!!!']\n"
     ]
    }
   ],
   "source": [
    "#Q78\n",
    "s = open(\"Hiii.txt\", \"r\")\n",
    "text = s.read()\n",
    "words = text.split()\n",
    "max_len = 0\n",
    "longest = []\n",
    "for word in words:\n",
    "    if len(word) > max_len:\n",
    "        max_len = len(word)\n",
    "for word in words:\n",
    "    if len(word) == max_len:\n",
    "        longest.append(word)\n",
    "print(longest)"
   ]
  },
  {
   "cell_type": "code",
   "execution_count": 115,
   "id": "7273d462-e1e5-4e7e-96fa-edadced4ba54",
   "metadata": {},
   "outputs": [
    {
     "name": "stdout",
     "output_type": "stream",
     "text": [
      "5\n"
     ]
    }
   ],
   "source": [
    "#Q79\n",
    "s = open(\"Hiii.txt\",\"r\")\n",
    "count = 0\n",
    "for x in s:\n",
    "    count+=1\n",
    "print(count)"
   ]
  },
  {
   "cell_type": "code",
   "execution_count": 117,
   "id": "79ff1293-55f7-42ae-8805-723b68c408e6",
   "metadata": {},
   "outputs": [
    {
     "name": "stdout",
     "output_type": "stream",
     "text": [
      "good : 1\n",
      "morning!!! : 1\n",
      "welcome : 1\n",
      "to : 1\n",
      "pythonwhat : 1\n",
      "do : 3\n",
      "you : 3\n",
      "want? : 2\n",
      "what : 1\n",
      "want?what : 1\n",
      "i'm : 1\n",
      "your : 1\n",
      "today's : 1\n",
      "assistant!!! : 1\n",
      "how : 1\n",
      "can : 1\n",
      "i : 1\n",
      "help : 1\n",
      "you? : 1\n"
     ]
    }
   ],
   "source": [
    "#Q80\n",
    "text = open(\"Hiii.txt\", \"r\") \n",
    "d = dict() \n",
    "for line in text:\n",
    "    line = line.strip() \n",
    "    line = line.lower() \n",
    "    words = line.split(\" \") \n",
    "    for word in words: \n",
    "        if word in d: \n",
    "            d[word] = d[word] + 1\n",
    "        else: \n",
    "            d[word] = 1\n",
    "for key in list(d.keys()): \n",
    "\tprint(key, \":\", d[key]) "
   ]
  },
  {
   "cell_type": "code",
   "execution_count": 121,
   "id": "1c34f5d3-9baa-4bde-ba9f-2e3a1024ffca",
   "metadata": {},
   "outputs": [
    {
     "name": "stdout",
     "output_type": "stream",
     "text": [
      "Good Morning!!!\n",
      "Welcome to PythonWhat do you want?\n",
      " What do you want?What do you want?\n",
      "I'm your today's assistant!!! \n",
      "How can I help you?\n",
      "\n",
      "[1,2,3]\n",
      "[1,2,3]\n"
     ]
    }
   ],
   "source": [
    "#Q81\n",
    "s = open(\"Hiii.txt\",\"a\")\n",
    "s.write(\"\\n[1,2,3]\")\n",
    "s.close()\n",
    "s = open(\"Hiii.txt\",\"r\")\n",
    "print(s.read())\n",
    "s.close()"
   ]
  },
  {
   "cell_type": "code",
   "execution_count": 125,
   "id": "cccb463c-8aec-4d69-bade-dc095c481465",
   "metadata": {},
   "outputs": [
    {
     "name": "stdout",
     "output_type": "stream",
     "text": [
      "Data transfereed\n"
     ]
    }
   ],
   "source": [
    "#Q82\n",
    "s = open(\"Hiii.txt\",\"r\")\n",
    "a = open(\"hello.txt\",\"w\")\n",
    "a.write(s.read())\n",
    "print(\"Data transfereed\")\n",
    "a.close()\n",
    "s.close()"
   ]
  },
  {
   "cell_type": "markdown",
   "id": "e580992f-7403-48f9-ba61-c3895a48ca3c",
   "metadata": {},
   "source": [
    "Q83: Explain Exception handling? What is an Error in Python?\n",
    "- When an error occurs while executing the program, python will throw error which means that the given input cannot be compiled and to handle such errors\n",
    "we use error handling also known as exception handling"
   ]
  },
  {
   "cell_type": "code",
   "execution_count": 127,
   "id": "b7477b06-dd4e-46d4-8d05-bcb5aa7603c1",
   "metadata": {},
   "outputs": [
    {
     "ename": "ZeroDivisionError",
     "evalue": "division by zero",
     "output_type": "error",
     "traceback": [
      "\u001b[1;31m---------------------------------------------------------------------------\u001b[0m",
      "\u001b[1;31mZeroDivisionError\u001b[0m                         Traceback (most recent call last)",
      "Cell \u001b[1;32mIn[127], line 6\u001b[0m\n\u001b[0;32m      4\u001b[0m a \u001b[38;5;241m=\u001b[39m \u001b[38;5;241m10\u001b[39m\n\u001b[0;32m      5\u001b[0m b \u001b[38;5;241m=\u001b[39m \u001b[38;5;241m0\u001b[39m\n\u001b[1;32m----> 6\u001b[0m \u001b[38;5;28mprint\u001b[39m(a\u001b[38;5;241m/\u001b[39mb)\n",
      "\u001b[1;31mZeroDivisionError\u001b[0m: division by zero"
     ]
    }
   ],
   "source": [
    "#Q84 How many except statements can a try-except block have? \n",
    "\"\"\"There can be as many as except block you want in try-except block, there should atleast one. \n",
    "Built-in exception classes are ArthmeticError, MemoryError,Syntax error,Type error, and ZeroDivisionError.\"\"\"\n",
    "a = 10\n",
    "b = 0\n",
    "print(a/b)\n",
    "#This Question holds ZeroDivisionError.\n"
   ]
  },
  {
   "cell_type": "code",
   "execution_count": 131,
   "id": "0b9b1336-4c16-4395-8867-f2c19fde3001",
   "metadata": {},
   "outputs": [
    {
     "name": "stdout",
     "output_type": "stream",
     "text": [
      "6.0\n",
      "There is no exception\n"
     ]
    }
   ],
   "source": [
    "#Q85\n",
    "t = 12\n",
    "g = 2\n",
    "try:\n",
    "    print(t/g)\n",
    "except:\n",
    "    print(\"error\")\n",
    "else:\n",
    "    print(\"There is no exception\")"
   ]
  },
  {
   "cell_type": "markdown",
   "id": "aedf9129-7e7b-471a-aead-8ada255b976b",
   "metadata": {},
   "source": [
    "Q86: Can one block of except statements handle multiple exception?\n",
    "- Yes one block of except statements handle multiple exception?\n"
   ]
  },
  {
   "cell_type": "code",
   "execution_count": 133,
   "id": "5376a964-7acb-467d-a640-0afbdd4f78ef",
   "metadata": {},
   "outputs": [
    {
     "name": "stdout",
     "output_type": "stream",
     "text": [
      "300\n",
      "Multiply\n",
      "Done\n"
     ]
    }
   ],
   "source": [
    "#Q87\n",
    "a = 30\n",
    "b = 10\n",
    "try:\n",
    "    print(a*b)\n",
    "except:\n",
    "    print(\"There is an error\")\n",
    "else:\n",
    "    print(\"Multiply\")\n",
    "finally:\n",
    "    print(\"Done\")"
   ]
  },
  {
   "cell_type": "markdown",
   "id": "6c369761-d2e4-4941-baec-2b7c51e17852",
   "metadata": {},
   "source": [
    "Q88: What happens when „1‟== 1 is executed?\n",
    "- We get false because \"1\" is used as a string and 1 is used a number which does not make them equal"
   ]
  },
  {
   "cell_type": "code",
   "execution_count": 136,
   "id": "d2339158-ede3-4667-8e53-2cb55aafb5bf",
   "metadata": {},
   "outputs": [
    {
     "name": "stdout",
     "output_type": "stream",
     "text": [
      "It can't run\n",
      "There is an error in program\n"
     ]
    }
   ],
   "source": [
    "#Q89\n",
    "a = 10\n",
    "b = 0\n",
    "try:\n",
    "    print(a/b)\n",
    "except:\n",
    "    print(\"It can't run\")\n",
    "finally:\n",
    "    print(\"There is an error in program\")"
   ]
  },
  {
   "cell_type": "code",
   "execution_count": 142,
   "id": "530d4cec-7b1e-4560-ba6e-5daf76b9a544",
   "metadata": {},
   "outputs": [
    {
     "name": "stdin",
     "output_type": "stream",
     "text": [
      "enter odd integer 25\n"
     ]
    },
    {
     "name": "stdout",
     "output_type": "stream",
     "text": [
      "False\n"
     ]
    },
    {
     "ename": "Exception",
     "evalue": "Add odd integer",
     "output_type": "error",
     "traceback": [
      "\u001b[1;31m---------------------------------------------------------------------------\u001b[0m",
      "\u001b[1;31mException\u001b[0m                                 Traceback (most recent call last)",
      "Cell \u001b[1;32mIn[142], line 8\u001b[0m\n\u001b[0;32m      6\u001b[0m     \u001b[38;5;28mprint\u001b[39m(\u001b[38;5;124m\"\u001b[39m\u001b[38;5;124minteger is\u001b[39m\u001b[38;5;124m\"\u001b[39m,a)\n\u001b[0;32m      7\u001b[0m \u001b[38;5;28;01melse\u001b[39;00m:\n\u001b[1;32m----> 8\u001b[0m     \u001b[38;5;28;01mraise\u001b[39;00m \u001b[38;5;167;01mException\u001b[39;00m(\u001b[38;5;124m\"\u001b[39m\u001b[38;5;124mAdd odd integer\u001b[39m\u001b[38;5;124m\"\u001b[39m)\n",
      "\u001b[1;31mException\u001b[0m: Add odd integer"
     ]
    }
   ],
   "source": [
    "#Q90\n",
    "a = int(input(\"enter odd integer\"))\n",
    "try :\n",
    "    print(a%2==0)\n",
    "except:\n",
    "    print(\"integer is\",a)\n",
    "else:\n",
    "    raise Exception(\"Add odd integer\")"
   ]
  },
  {
   "cell_type": "code",
   "execution_count": null,
   "id": "2a688a4b-6a42-4fbc-b1f2-4cf701da1700",
   "metadata": {},
   "outputs": [],
   "source": []
  }
 ],
 "metadata": {
  "kernelspec": {
   "display_name": "Python 3 (ipykernel)",
   "language": "python",
   "name": "python3"
  },
  "language_info": {
   "codemirror_mode": {
    "name": "ipython",
    "version": 3
   },
   "file_extension": ".py",
   "mimetype": "text/x-python",
   "name": "python",
   "nbconvert_exporter": "python",
   "pygments_lexer": "ipython3",
   "version": "3.12.7"
  }
 },
 "nbformat": 4,
 "nbformat_minor": 5
}
