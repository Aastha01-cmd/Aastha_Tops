{
 "cells": [
  {
   "cell_type": "code",
   "execution_count": null,
   "id": "454c94b6-7183-4120-b49c-2ad4c8a8f5f0",
   "metadata": {},
   "outputs": [],
   "source": []
  }
 ],
 "metadata": {
  "kernelspec": {
   "display_name": "",
   "name": ""
  },
  "language_info": {
   "name": ""
  }
 },
 "nbformat": 4,
 "nbformat_minor": 5
}
